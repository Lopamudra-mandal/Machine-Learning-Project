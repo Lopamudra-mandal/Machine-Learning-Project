{
 "cells": [
  {
   "cell_type": "markdown",
   "metadata": {},
   "source": [
    "# LearnX Sales Forecasting\n",
    "____________________________________"
   ]
  },
  {
   "cell_type": "markdown",
   "metadata": {},
   "source": [
    "## Table of Contents\n",
    "1. Problem Statement\n",
    "2. Importing Packages\n",
    "3. Loading Data\n",
    "4. Praparing the data\n",
    "5. Exploratory Data Analysis\n",
    "    - 5.1. proportion of course domains\n",
    "    - 5.2. Couse Types\n",
    "    - 5.3. Heat map\n",
    "    - 5.4. proportion of Short Promotions\n",
    "    - 5.5. proportion of Long Promotions\n",
    "6. Machine learning algorithm:\n",
    "    - Linar Regression\n",
    "        - Using the Model for Prediction\n",
    "        - Model evaluation\n",
    "    - RandomForest\n",
    "        - Using the Model for Prediction\n",
    "        - Model evaluation\n",
    "    - K-Nearest Neighbour\n",
    "        - Using the Model for Prediction\n",
    "        - Model evaluation\n",
    "7. Analysing the algorithms\n",
    "\n"
   ]
  },
  {
   "cell_type": "markdown",
   "metadata": {},
   "source": [
    "### 1. Problem Statement\n",
    "\n",
    "LearnX is an online learning platform aimed at professionals and students. LearnX serves as a market place that allows instructors to build online courses on topics of their expertise which is later published after due diligence by the LearnX team. The platform covers a wide variety of topics including Development, Business, Finance & Accounting & Software Marketing and so on.\n",
    "\n",
    "Effective forecasting for course sales gives essential insight into upcoming cash flow meaning business can more accurately plan the budget to pay instructors and other operational costs and invest in the expansion of the business.\n"
   ]
  },
  {
   "cell_type": "markdown",
   "metadata": {},
   "source": [
    "### 2. Importing Packages"
   ]
  },
  {
   "cell_type": "code",
   "execution_count": 1,
   "metadata": {},
   "outputs": [],
   "source": [
    "import pandas as pd\n",
    "import numpy as np\n",
    "import matplotlib.pyplot as plt\n",
    "%matplotlib inline\n",
    "from sklearn import metrics\n",
    "from sklearn.preprocessing import StandardScaler\n",
    "from sklearn.linear_model import LinearRegression\n",
    "from sklearn.ensemble import RandomForestRegressor\n",
    "from sklearn.neighbors import KNeighborsRegressor\n",
    "from sklearn.model_selection import cross_val_score\n",
    "import seaborn as sns\n",
    "sns.set(style='whitegrid', font_scale=1.3, color_codes=True)"
   ]
  },
  {
   "cell_type": "markdown",
   "metadata": {},
   "source": [
    "### 3. Loading Data"
   ]
  },
  {
   "cell_type": "code",
   "execution_count": 2,
   "metadata": {},
   "outputs": [],
   "source": [
    "train = pd.read_csv(\"C:/Users/Lopamudra Mandal/Downloads/New folder (4)/train.csv\")"
   ]
  },
  {
   "cell_type": "code",
   "execution_count": 3,
   "metadata": {},
   "outputs": [
    {
     "data": {
      "text/html": [
       "<div>\n",
       "<style scoped>\n",
       "    .dataframe tbody tr th:only-of-type {\n",
       "        vertical-align: middle;\n",
       "    }\n",
       "\n",
       "    .dataframe tbody tr th {\n",
       "        vertical-align: top;\n",
       "    }\n",
       "\n",
       "    .dataframe thead th {\n",
       "        text-align: right;\n",
       "    }\n",
       "</style>\n",
       "<table border=\"1\" class=\"dataframe\">\n",
       "  <thead>\n",
       "    <tr style=\"text-align: right;\">\n",
       "      <th></th>\n",
       "      <th>ID</th>\n",
       "      <th>Day_No</th>\n",
       "      <th>Course_ID</th>\n",
       "      <th>Course_Domain</th>\n",
       "      <th>Course_Type</th>\n",
       "      <th>Short_Promotion</th>\n",
       "      <th>Public_Holiday</th>\n",
       "      <th>Long_Promotion</th>\n",
       "      <th>User_Traffic</th>\n",
       "      <th>Competition_Metric</th>\n",
       "      <th>Sales</th>\n",
       "    </tr>\n",
       "  </thead>\n",
       "  <tbody>\n",
       "    <tr>\n",
       "      <th>0</th>\n",
       "      <td>1</td>\n",
       "      <td>1</td>\n",
       "      <td>1</td>\n",
       "      <td>Development</td>\n",
       "      <td>Course</td>\n",
       "      <td>0</td>\n",
       "      <td>1</td>\n",
       "      <td>1</td>\n",
       "      <td>11004</td>\n",
       "      <td>0.007</td>\n",
       "      <td>81</td>\n",
       "    </tr>\n",
       "    <tr>\n",
       "      <th>1</th>\n",
       "      <td>2</td>\n",
       "      <td>2</td>\n",
       "      <td>1</td>\n",
       "      <td>Development</td>\n",
       "      <td>Course</td>\n",
       "      <td>0</td>\n",
       "      <td>0</td>\n",
       "      <td>1</td>\n",
       "      <td>13650</td>\n",
       "      <td>0.007</td>\n",
       "      <td>79</td>\n",
       "    </tr>\n",
       "    <tr>\n",
       "      <th>2</th>\n",
       "      <td>3</td>\n",
       "      <td>3</td>\n",
       "      <td>1</td>\n",
       "      <td>Development</td>\n",
       "      <td>Course</td>\n",
       "      <td>0</td>\n",
       "      <td>0</td>\n",
       "      <td>1</td>\n",
       "      <td>11655</td>\n",
       "      <td>0.007</td>\n",
       "      <td>75</td>\n",
       "    </tr>\n",
       "    <tr>\n",
       "      <th>3</th>\n",
       "      <td>4</td>\n",
       "      <td>4</td>\n",
       "      <td>1</td>\n",
       "      <td>Development</td>\n",
       "      <td>Course</td>\n",
       "      <td>0</td>\n",
       "      <td>0</td>\n",
       "      <td>1</td>\n",
       "      <td>12054</td>\n",
       "      <td>0.007</td>\n",
       "      <td>80</td>\n",
       "    </tr>\n",
       "    <tr>\n",
       "      <th>4</th>\n",
       "      <td>5</td>\n",
       "      <td>5</td>\n",
       "      <td>1</td>\n",
       "      <td>Development</td>\n",
       "      <td>Course</td>\n",
       "      <td>0</td>\n",
       "      <td>0</td>\n",
       "      <td>1</td>\n",
       "      <td>6804</td>\n",
       "      <td>0.007</td>\n",
       "      <td>41</td>\n",
       "    </tr>\n",
       "  </tbody>\n",
       "</table>\n",
       "</div>"
      ],
      "text/plain": [
       "   ID  Day_No  Course_ID Course_Domain Course_Type  Short_Promotion  \\\n",
       "0   1       1          1   Development      Course                0   \n",
       "1   2       2          1   Development      Course                0   \n",
       "2   3       3          1   Development      Course                0   \n",
       "3   4       4          1   Development      Course                0   \n",
       "4   5       5          1   Development      Course                0   \n",
       "\n",
       "   Public_Holiday  Long_Promotion  User_Traffic  Competition_Metric  Sales  \n",
       "0               1               1         11004               0.007     81  \n",
       "1               0               1         13650               0.007     79  \n",
       "2               0               1         11655               0.007     75  \n",
       "3               0               1         12054               0.007     80  \n",
       "4               0               1          6804               0.007     41  "
      ]
     },
     "execution_count": 3,
     "metadata": {},
     "output_type": "execute_result"
    }
   ],
   "source": [
    "train.head()"
   ]
  },
  {
   "cell_type": "code",
   "execution_count": 4,
   "metadata": {},
   "outputs": [
    {
     "name": "stdout",
     "output_type": "stream",
     "text": [
      "<class 'pandas.core.frame.DataFrame'>\n",
      "RangeIndex: 512087 entries, 0 to 512086\n",
      "Data columns (total 11 columns):\n",
      "ID                    512087 non-null int64\n",
      "Day_No                512087 non-null int64\n",
      "Course_ID             512087 non-null int64\n",
      "Course_Domain         512087 non-null object\n",
      "Course_Type           512087 non-null object\n",
      "Short_Promotion       512087 non-null int64\n",
      "Public_Holiday        512087 non-null int64\n",
      "Long_Promotion        512087 non-null int64\n",
      "User_Traffic          512087 non-null int64\n",
      "Competition_Metric    510323 non-null float64\n",
      "Sales                 512087 non-null int64\n",
      "dtypes: float64(1), int64(8), object(2)\n",
      "memory usage: 43.0+ MB\n"
     ]
    }
   ],
   "source": [
    "train.info()"
   ]
  },
  {
   "cell_type": "markdown",
   "metadata": {},
   "source": [
    "### 4. Preparing the data"
   ]
  },
  {
   "cell_type": "code",
   "execution_count": 5,
   "metadata": {},
   "outputs": [
    {
     "data": {
      "text/plain": [
       "ID                       0\n",
       "Day_No                   0\n",
       "Course_ID                0\n",
       "Course_Domain            0\n",
       "Course_Type              0\n",
       "Short_Promotion          0\n",
       "Public_Holiday           0\n",
       "Long_Promotion           0\n",
       "User_Traffic             0\n",
       "Competition_Metric    1764\n",
       "Sales                    0\n",
       "dtype: int64"
      ]
     },
     "execution_count": 5,
     "metadata": {},
     "output_type": "execute_result"
    }
   ],
   "source": [
    "train.isnull().sum()"
   ]
  },
  {
   "cell_type": "code",
   "execution_count": 6,
   "metadata": {},
   "outputs": [],
   "source": [
    "train=train.drop(['Competition_Metric','ID','Day_No'], axis=1)"
   ]
  },
  {
   "cell_type": "code",
   "execution_count": 7,
   "metadata": {},
   "outputs": [
    {
     "data": {
      "text/plain": [
       "(512087, 8)"
      ]
     },
     "execution_count": 7,
     "metadata": {},
     "output_type": "execute_result"
    }
   ],
   "source": [
    "train.shape"
   ]
  },
  {
   "cell_type": "code",
   "execution_count": 8,
   "metadata": {},
   "outputs": [
    {
     "data": {
      "text/plain": [
       "Course_ID          0\n",
       "Course_Domain      0\n",
       "Course_Type        0\n",
       "Short_Promotion    0\n",
       "Public_Holiday     0\n",
       "Long_Promotion     0\n",
       "User_Traffic       0\n",
       "Sales              0\n",
       "dtype: int64"
      ]
     },
     "execution_count": 8,
     "metadata": {},
     "output_type": "execute_result"
    }
   ],
   "source": [
    "train.isnull().sum()"
   ]
  },
  {
   "cell_type": "code",
   "execution_count": 9,
   "metadata": {},
   "outputs": [
    {
     "data": {
      "text/html": [
       "<div>\n",
       "<style scoped>\n",
       "    .dataframe tbody tr th:only-of-type {\n",
       "        vertical-align: middle;\n",
       "    }\n",
       "\n",
       "    .dataframe tbody tr th {\n",
       "        vertical-align: top;\n",
       "    }\n",
       "\n",
       "    .dataframe thead th {\n",
       "        text-align: right;\n",
       "    }\n",
       "</style>\n",
       "<table border=\"1\" class=\"dataframe\">\n",
       "  <thead>\n",
       "    <tr style=\"text-align: right;\">\n",
       "      <th></th>\n",
       "      <th>Course_ID</th>\n",
       "      <th>Short_Promotion</th>\n",
       "      <th>Public_Holiday</th>\n",
       "      <th>Long_Promotion</th>\n",
       "      <th>User_Traffic</th>\n",
       "      <th>Sales</th>\n",
       "    </tr>\n",
       "  </thead>\n",
       "  <tbody>\n",
       "    <tr>\n",
       "      <th>count</th>\n",
       "      <td>512087.000000</td>\n",
       "      <td>512087.000000</td>\n",
       "      <td>512087.000000</td>\n",
       "      <td>512087.000000</td>\n",
       "      <td>512087.000000</td>\n",
       "      <td>512087.000000</td>\n",
       "    </tr>\n",
       "    <tr>\n",
       "      <th>mean</th>\n",
       "      <td>300.388344</td>\n",
       "      <td>0.380244</td>\n",
       "      <td>0.031639</td>\n",
       "      <td>0.488968</td>\n",
       "      <td>15375.101198</td>\n",
       "      <td>120.826924</td>\n",
       "    </tr>\n",
       "    <tr>\n",
       "      <th>std</th>\n",
       "      <td>173.365787</td>\n",
       "      <td>0.485447</td>\n",
       "      <td>0.175038</td>\n",
       "      <td>0.499879</td>\n",
       "      <td>7727.231205</td>\n",
       "      <td>54.355258</td>\n",
       "    </tr>\n",
       "    <tr>\n",
       "      <th>min</th>\n",
       "      <td>1.000000</td>\n",
       "      <td>0.000000</td>\n",
       "      <td>0.000000</td>\n",
       "      <td>0.000000</td>\n",
       "      <td>168.000000</td>\n",
       "      <td>0.000000</td>\n",
       "    </tr>\n",
       "    <tr>\n",
       "      <th>25%</th>\n",
       "      <td>150.000000</td>\n",
       "      <td>0.000000</td>\n",
       "      <td>0.000000</td>\n",
       "      <td>0.000000</td>\n",
       "      <td>10584.000000</td>\n",
       "      <td>84.000000</td>\n",
       "    </tr>\n",
       "    <tr>\n",
       "      <th>50%</th>\n",
       "      <td>300.000000</td>\n",
       "      <td>0.000000</td>\n",
       "      <td>0.000000</td>\n",
       "      <td>0.000000</td>\n",
       "      <td>13776.000000</td>\n",
       "      <td>111.000000</td>\n",
       "    </tr>\n",
       "    <tr>\n",
       "      <th>75%</th>\n",
       "      <td>451.000000</td>\n",
       "      <td>1.000000</td>\n",
       "      <td>0.000000</td>\n",
       "      <td>1.000000</td>\n",
       "      <td>18123.000000</td>\n",
       "      <td>146.000000</td>\n",
       "    </tr>\n",
       "    <tr>\n",
       "      <th>max</th>\n",
       "      <td>600.000000</td>\n",
       "      <td>1.000000</td>\n",
       "      <td>1.000000</td>\n",
       "      <td>1.000000</td>\n",
       "      <td>100002.000000</td>\n",
       "      <td>682.000000</td>\n",
       "    </tr>\n",
       "  </tbody>\n",
       "</table>\n",
       "</div>"
      ],
      "text/plain": [
       "           Course_ID  Short_Promotion  Public_Holiday  Long_Promotion  \\\n",
       "count  512087.000000    512087.000000   512087.000000   512087.000000   \n",
       "mean      300.388344         0.380244        0.031639        0.488968   \n",
       "std       173.365787         0.485447        0.175038        0.499879   \n",
       "min         1.000000         0.000000        0.000000        0.000000   \n",
       "25%       150.000000         0.000000        0.000000        0.000000   \n",
       "50%       300.000000         0.000000        0.000000        0.000000   \n",
       "75%       451.000000         1.000000        0.000000        1.000000   \n",
       "max       600.000000         1.000000        1.000000        1.000000   \n",
       "\n",
       "        User_Traffic          Sales  \n",
       "count  512087.000000  512087.000000  \n",
       "mean    15375.101198     120.826924  \n",
       "std      7727.231205      54.355258  \n",
       "min       168.000000       0.000000  \n",
       "25%     10584.000000      84.000000  \n",
       "50%     13776.000000     111.000000  \n",
       "75%     18123.000000     146.000000  \n",
       "max    100002.000000     682.000000  "
      ]
     },
     "execution_count": 9,
     "metadata": {},
     "output_type": "execute_result"
    }
   ],
   "source": [
    "train.describe()"
   ]
  },
  {
   "cell_type": "markdown",
   "metadata": {},
   "source": [
    "### 5. Exploratory Data Analysis"
   ]
  },
  {
   "cell_type": "markdown",
   "metadata": {},
   "source": [
    "#### 5.1. proportion of course domains"
   ]
  },
  {
   "cell_type": "code",
   "execution_count": 10,
   "metadata": {},
   "outputs": [
    {
     "data": {
      "text/plain": [
       "Text(0, 0.5, 'Course Domain')"
      ]
     },
     "execution_count": 10,
     "metadata": {},
     "output_type": "execute_result"
    },
    {
     "data": {
      "image/png": "[encoded data removed]",
      "text/plain": [
       "<Figure size 576x576 with 1 Axes>"
      ]
     },
     "metadata": {},
     "output_type": "display_data"
    }
   ],
   "source": [
    "train.Course_Domain.value_counts().plot(kind='pie', fontsize=14, shadow=True, explode=[0.03,0.03,0.03,0.03],\n",
    "                                    startangle=150, figsize=(8,8), legend=True)\n",
    "plt.title('Pie Chart showing the proportion of course domains', fontsize=18)\n",
    "plt.ylabel('Course Domain', fontsize=18)"
   ]
  },
  {
   "cell_type": "markdown",
   "metadata": {},
   "source": [
    "#### 5.2. Couse Types"
   ]
  },
  {
   "cell_type": "code",
   "execution_count": 11,
   "metadata": {},
   "outputs": [
    {
     "data": {
      "text/plain": [
       "Text(0.5, 1.0, 'Course Type')"
      ]
     },
     "execution_count": 11,
     "metadata": {},
     "output_type": "execute_result"
    },
    {
     "data": {
      "image/png": "[encoded data removed]",
      "text/plain": [
       "<Figure size 432x288 with 1 Axes>"
      ]
     },
     "metadata": {
      "needs_background": "light"
     },
     "output_type": "display_data"
    }
   ],
   "source": [
    "train.Course_Type.value_counts().plot(kind=\"bar\")\n",
    "plt.xlabel('Course Type', fontsize=18)\n",
    "plt.ylabel('Count of couses', fontsize=18)\n",
    "plt.title('Course Type',fontsize=25)"
   ]
  },
  {
   "cell_type": "markdown",
   "metadata": {},
   "source": [
    "#### 5.3. Heat map"
   ]
  },
  {
   "cell_type": "code",
   "execution_count": 12,
   "metadata": {},
   "outputs": [
    {
     "data": {
      "text/plain": [
       "<matplotlib.axes._subplots.AxesSubplot at 0x21d63b65240>"
      ]
     },
     "execution_count": 12,
     "metadata": {},
     "output_type": "execute_result"
    },
    {
     "data": {
      "image/png": "[encoded data removed]",
      "text/plain": [
       "<Figure size 648x504 with 2 Axes>"
      ]
     },
     "metadata": {
      "needs_background": "light"
     },
     "output_type": "display_data"
    }
   ],
   "source": [
    "corr_mat = train.corr()\n",
    "plt.figure(figsize=(9,7))\n",
    "sns.heatmap(corr_mat, annot=True, cmap='viridis')"
   ]
  },
  {
   "cell_type": "markdown",
   "metadata": {},
   "source": [
    "#### 5.4. proportion of Short Promotions"
   ]
  },
  {
   "cell_type": "code",
   "execution_count": 13,
   "metadata": {},
   "outputs": [
    {
     "data": {
      "text/plain": [
       "Text(0, 0.5, 'Short Promotion')"
      ]
     },
     "execution_count": 13,
     "metadata": {},
     "output_type": "execute_result"
    },
    {
     "data": {
      "image/png": "[encoded data removed]",
      "text/plain": [
       "<Figure size 360x360 with 1 Axes>"
      ]
     },
     "metadata": {},
     "output_type": "display_data"
    }
   ],
   "source": [
    "train.Short_Promotion.value_counts().plot(kind='pie', fontsize=14, shadow=True, explode=[0.02,0.02],\n",
    "                                    startangle=150, figsize=(5,5), legend=True)\n",
    "plt.title('Pie Chart showing the proportion of Short Promotion', fontsize=18)\n",
    "plt.ylabel('Short Promotion', fontsize=18)"
   ]
  },
  {
   "cell_type": "markdown",
   "metadata": {},
   "source": [
    "#### 5.5. proportion of Long Promotions"
   ]
  },
  {
   "cell_type": "code",
   "execution_count": 14,
   "metadata": {},
   "outputs": [
    {
     "data": {
      "text/plain": [
       "Text(0, 0.5, 'Long Promotion')"
      ]
     },
     "execution_count": 14,
     "metadata": {},
     "output_type": "execute_result"
    },
    {
     "data": {
      "image/png": "[encoded data removed]",
      "text/plain": [
       "<Figure size 360x360 with 1 Axes>"
      ]
     },
     "metadata": {},
     "output_type": "display_data"
    }
   ],
   "source": [
    "train.Long_Promotion.value_counts().plot(kind='pie', fontsize=14, shadow=True, explode=[0.02,0.02],\n",
    "                                    startangle=150, figsize=(5,5), legend=True)\n",
    "plt.title('Pie Chart showing the proportion of Long Promotion', fontsize=18)\n",
    "plt.ylabel('Long Promotion', fontsize=18)"
   ]
  },
  {
   "cell_type": "markdown",
   "metadata": {},
   "source": [
    "#### 5.5. proportion of Public Holidays"
   ]
  },
  {
   "cell_type": "code",
   "execution_count": 15,
   "metadata": {},
   "outputs": [
    {
     "data": {
      "text/plain": [
       "Text(0, 0.5, 'Public Holiday')"
      ]
     },
     "execution_count": 15,
     "metadata": {},
     "output_type": "execute_result"
    },
    {
     "data": {
      "image/png": "[encoded data removed]",
      "text/plain": [
       "<Figure size 360x360 with 1 Axes>"
      ]
     },
     "metadata": {},
     "output_type": "display_data"
    }
   ],
   "source": [
    "train.Public_Holiday.value_counts().plot(kind='pie', fontsize=14, shadow=True, explode=[0.03,0.03],\n",
    "                                    startangle=150, figsize=(5,5), legend=True)\n",
    "plt.title('Pie Chart showing the proportion of Public Holiday', fontsize=18)\n",
    "plt.ylabel('Public Holiday', fontsize=18)"
   ]
  },
  {
   "cell_type": "markdown",
   "metadata": {},
   "source": [
    "### Machine learning algorithms"
   ]
  },
  {
   "cell_type": "markdown",
   "metadata": {},
   "source": [
    "#### 6.1 Linear Regression"
   ]
  },
  {
   "cell_type": "markdown",
   "metadata": {},
   "source": [
    "#### Creating dummies for Course_Domain & Course_Type"
   ]
  },
  {
   "cell_type": "code",
   "execution_count": 16,
   "metadata": {},
   "outputs": [],
   "source": [
    "train1 = pd.get_dummies(train, columns=['Course_Domain','Course_Type'], drop_first=True)"
   ]
  },
  {
   "cell_type": "code",
   "execution_count": 17,
   "metadata": {},
   "outputs": [
    {
     "data": {
      "text/html": [
       "<div>\n",
       "<style scoped>\n",
       "    .dataframe tbody tr th:only-of-type {\n",
       "        vertical-align: middle;\n",
       "    }\n",
       "\n",
       "    .dataframe tbody tr th {\n",
       "        vertical-align: top;\n",
       "    }\n",
       "\n",
       "    .dataframe thead th {\n",
       "        text-align: right;\n",
       "    }\n",
       "</style>\n",
       "<table border=\"1\" class=\"dataframe\">\n",
       "  <thead>\n",
       "    <tr style=\"text-align: right;\">\n",
       "      <th></th>\n",
       "      <th>Course_ID</th>\n",
       "      <th>Short_Promotion</th>\n",
       "      <th>Public_Holiday</th>\n",
       "      <th>Long_Promotion</th>\n",
       "      <th>User_Traffic</th>\n",
       "      <th>Sales</th>\n",
       "      <th>Course_Domain_Development</th>\n",
       "      <th>Course_Domain_Finance &amp; Accounting</th>\n",
       "      <th>Course_Domain_Software Marketing</th>\n",
       "      <th>Course_Type_Degree</th>\n",
       "      <th>Course_Type_Program</th>\n",
       "    </tr>\n",
       "  </thead>\n",
       "  <tbody>\n",
       "    <tr>\n",
       "      <th>0</th>\n",
       "      <td>1</td>\n",
       "      <td>0</td>\n",
       "      <td>1</td>\n",
       "      <td>1</td>\n",
       "      <td>11004</td>\n",
       "      <td>81</td>\n",
       "      <td>1</td>\n",
       "      <td>0</td>\n",
       "      <td>0</td>\n",
       "      <td>0</td>\n",
       "      <td>0</td>\n",
       "    </tr>\n",
       "    <tr>\n",
       "      <th>1</th>\n",
       "      <td>1</td>\n",
       "      <td>0</td>\n",
       "      <td>0</td>\n",
       "      <td>1</td>\n",
       "      <td>13650</td>\n",
       "      <td>79</td>\n",
       "      <td>1</td>\n",
       "      <td>0</td>\n",
       "      <td>0</td>\n",
       "      <td>0</td>\n",
       "      <td>0</td>\n",
       "    </tr>\n",
       "    <tr>\n",
       "      <th>2</th>\n",
       "      <td>1</td>\n",
       "      <td>0</td>\n",
       "      <td>0</td>\n",
       "      <td>1</td>\n",
       "      <td>11655</td>\n",
       "      <td>75</td>\n",
       "      <td>1</td>\n",
       "      <td>0</td>\n",
       "      <td>0</td>\n",
       "      <td>0</td>\n",
       "      <td>0</td>\n",
       "    </tr>\n",
       "    <tr>\n",
       "      <th>3</th>\n",
       "      <td>1</td>\n",
       "      <td>0</td>\n",
       "      <td>0</td>\n",
       "      <td>1</td>\n",
       "      <td>12054</td>\n",
       "      <td>80</td>\n",
       "      <td>1</td>\n",
       "      <td>0</td>\n",
       "      <td>0</td>\n",
       "      <td>0</td>\n",
       "      <td>0</td>\n",
       "    </tr>\n",
       "    <tr>\n",
       "      <th>4</th>\n",
       "      <td>1</td>\n",
       "      <td>0</td>\n",
       "      <td>0</td>\n",
       "      <td>1</td>\n",
       "      <td>6804</td>\n",
       "      <td>41</td>\n",
       "      <td>1</td>\n",
       "      <td>0</td>\n",
       "      <td>0</td>\n",
       "      <td>0</td>\n",
       "      <td>0</td>\n",
       "    </tr>\n",
       "  </tbody>\n",
       "</table>\n",
       "</div>"
      ],
      "text/plain": [
       "   Course_ID  Short_Promotion  Public_Holiday  Long_Promotion  User_Traffic  \\\n",
       "0          1                0               1               1         11004   \n",
       "1          1                0               0               1         13650   \n",
       "2          1                0               0               1         11655   \n",
       "3          1                0               0               1         12054   \n",
       "4          1                0               0               1          6804   \n",
       "\n",
       "   Sales  Course_Domain_Development  Course_Domain_Finance & Accounting  \\\n",
       "0     81                          1                                   0   \n",
       "1     79                          1                                   0   \n",
       "2     75                          1                                   0   \n",
       "3     80                          1                                   0   \n",
       "4     41                          1                                   0   \n",
       "\n",
       "   Course_Domain_Software Marketing  Course_Type_Degree  Course_Type_Program  \n",
       "0                                 0                   0                    0  \n",
       "1                                 0                   0                    0  \n",
       "2                                 0                   0                    0  \n",
       "3                                 0                   0                    0  \n",
       "4                                 0                   0                    0  "
      ]
     },
     "execution_count": 17,
     "metadata": {},
     "output_type": "execute_result"
    }
   ],
   "source": [
    "train1.head()"
   ]
  },
  {
   "cell_type": "code",
   "execution_count": 18,
   "metadata": {},
   "outputs": [
    {
     "data": {
      "text/plain": [
       "Index(['Course_ID', 'Short_Promotion', 'Public_Holiday', 'Long_Promotion',\n",
       "       'User_Traffic', 'Sales', 'Course_Domain_Development',\n",
       "       'Course_Domain_Finance & Accounting',\n",
       "       'Course_Domain_Software Marketing', 'Course_Type_Degree',\n",
       "       'Course_Type_Program'],\n",
       "      dtype='object')"
      ]
     },
     "execution_count": 18,
     "metadata": {},
     "output_type": "execute_result"
    }
   ],
   "source": [
    "train1.columns"
   ]
  },
  {
   "cell_type": "markdown",
   "metadata": {},
   "source": [
    "#### Scaling data"
   ]
  },
  {
   "cell_type": "code",
   "execution_count": 19,
   "metadata": {},
   "outputs": [
    {
     "name": "stderr",
     "output_type": "stream",
     "text": [
      "C:\\ProgramData\\Anaconda3\\lib\\site-packages\\sklearn\\preprocessing\\data.py:645: DataConversionWarning: Data with input dtype uint8, int64 were all converted to float64 by StandardScaler.\n",
      "  return self.partial_fit(X, y)\n",
      "C:\\ProgramData\\Anaconda3\\lib\\site-packages\\ipykernel_launcher.py:3: DataConversionWarning: Data with input dtype uint8, int64 were all converted to float64 by StandardScaler.\n",
      "  This is separate from the ipykernel package so we can avoid doing imports until\n"
     ]
    }
   ],
   "source": [
    "scaler = StandardScaler().fit(train1)\n",
    "train2 = scaler.transform(train1)"
   ]
  },
  {
   "cell_type": "code",
   "execution_count": 20,
   "metadata": {},
   "outputs": [
    {
     "data": {
      "text/html": [
       "<div>\n",
       "<style scoped>\n",
       "    .dataframe tbody tr th:only-of-type {\n",
       "        vertical-align: middle;\n",
       "    }\n",
       "\n",
       "    .dataframe tbody tr th {\n",
       "        vertical-align: top;\n",
       "    }\n",
       "\n",
       "    .dataframe thead th {\n",
       "        text-align: right;\n",
       "    }\n",
       "</style>\n",
       "<table border=\"1\" class=\"dataframe\">\n",
       "  <thead>\n",
       "    <tr style=\"text-align: right;\">\n",
       "      <th></th>\n",
       "      <th>0</th>\n",
       "      <th>1</th>\n",
       "      <th>2</th>\n",
       "      <th>3</th>\n",
       "      <th>4</th>\n",
       "      <th>5</th>\n",
       "      <th>6</th>\n",
       "      <th>7</th>\n",
       "      <th>8</th>\n",
       "      <th>9</th>\n",
       "      <th>10</th>\n",
       "    </tr>\n",
       "  </thead>\n",
       "  <tbody>\n",
       "    <tr>\n",
       "      <th>0</th>\n",
       "      <td>-1.726919</td>\n",
       "      <td>-0.783287</td>\n",
       "      <td>5.532306</td>\n",
       "      <td>1.022313</td>\n",
       "      <td>-0.565676</td>\n",
       "      <td>-0.732716</td>\n",
       "      <td>0.968276</td>\n",
       "      <td>-0.42136</td>\n",
       "      <td>-0.693097</td>\n",
       "      <td>-0.058793</td>\n",
       "      <td>-0.967459</td>\n",
       "    </tr>\n",
       "    <tr>\n",
       "      <th>1</th>\n",
       "      <td>-1.726919</td>\n",
       "      <td>-0.783287</td>\n",
       "      <td>-0.180756</td>\n",
       "      <td>1.022313</td>\n",
       "      <td>-0.223250</td>\n",
       "      <td>-0.769511</td>\n",
       "      <td>0.968276</td>\n",
       "      <td>-0.42136</td>\n",
       "      <td>-0.693097</td>\n",
       "      <td>-0.058793</td>\n",
       "      <td>-0.967459</td>\n",
       "    </tr>\n",
       "    <tr>\n",
       "      <th>2</th>\n",
       "      <td>-1.726919</td>\n",
       "      <td>-0.783287</td>\n",
       "      <td>-0.180756</td>\n",
       "      <td>1.022313</td>\n",
       "      <td>-0.481428</td>\n",
       "      <td>-0.843101</td>\n",
       "      <td>0.968276</td>\n",
       "      <td>-0.42136</td>\n",
       "      <td>-0.693097</td>\n",
       "      <td>-0.058793</td>\n",
       "      <td>-0.967459</td>\n",
       "    </tr>\n",
       "    <tr>\n",
       "      <th>3</th>\n",
       "      <td>-1.726919</td>\n",
       "      <td>-0.783287</td>\n",
       "      <td>-0.180756</td>\n",
       "      <td>1.022313</td>\n",
       "      <td>-0.429792</td>\n",
       "      <td>-0.751113</td>\n",
       "      <td>0.968276</td>\n",
       "      <td>-0.42136</td>\n",
       "      <td>-0.693097</td>\n",
       "      <td>-0.058793</td>\n",
       "      <td>-0.967459</td>\n",
       "    </tr>\n",
       "    <tr>\n",
       "      <th>4</th>\n",
       "      <td>-1.726919</td>\n",
       "      <td>-0.783287</td>\n",
       "      <td>-0.180756</td>\n",
       "      <td>1.022313</td>\n",
       "      <td>-1.109208</td>\n",
       "      <td>-1.468616</td>\n",
       "      <td>0.968276</td>\n",
       "      <td>-0.42136</td>\n",
       "      <td>-0.693097</td>\n",
       "      <td>-0.058793</td>\n",
       "      <td>-0.967459</td>\n",
       "    </tr>\n",
       "  </tbody>\n",
       "</table>\n",
       "</div>"
      ],
      "text/plain": [
       "         0         1         2         3         4         5         6   \\\n",
       "0 -1.726919 -0.783287  5.532306  1.022313 -0.565676 -0.732716  0.968276   \n",
       "1 -1.726919 -0.783287 -0.180756  1.022313 -0.223250 -0.769511  0.968276   \n",
       "2 -1.726919 -0.783287 -0.180756  1.022313 -0.481428 -0.843101  0.968276   \n",
       "3 -1.726919 -0.783287 -0.180756  1.022313 -0.429792 -0.751113  0.968276   \n",
       "4 -1.726919 -0.783287 -0.180756  1.022313 -1.109208 -1.468616  0.968276   \n",
       "\n",
       "        7         8         9         10  \n",
       "0 -0.42136 -0.693097 -0.058793 -0.967459  \n",
       "1 -0.42136 -0.693097 -0.058793 -0.967459  \n",
       "2 -0.42136 -0.693097 -0.058793 -0.967459  \n",
       "3 -0.42136 -0.693097 -0.058793 -0.967459  \n",
       "4 -0.42136 -0.693097 -0.058793 -0.967459  "
      ]
     },
     "execution_count": 20,
     "metadata": {},
     "output_type": "execute_result"
    }
   ],
   "source": [
    "train3 = pd.DataFrame(train2)\n",
    "train3.head()"
   ]
  },
  {
   "cell_type": "code",
   "execution_count": 21,
   "metadata": {},
   "outputs": [
    {
     "data": {
      "text/html": [
       "<div>\n",
       "<style scoped>\n",
       "    .dataframe tbody tr th:only-of-type {\n",
       "        vertical-align: middle;\n",
       "    }\n",
       "\n",
       "    .dataframe tbody tr th {\n",
       "        vertical-align: top;\n",
       "    }\n",
       "\n",
       "    .dataframe thead th {\n",
       "        text-align: right;\n",
       "    }\n",
       "</style>\n",
       "<table border=\"1\" class=\"dataframe\">\n",
       "  <thead>\n",
       "    <tr style=\"text-align: right;\">\n",
       "      <th></th>\n",
       "      <th>Course_ID</th>\n",
       "      <th>Short_Promotion</th>\n",
       "      <th>Public_Holiday</th>\n",
       "      <th>Long_Promotion</th>\n",
       "      <th>User_Traffic</th>\n",
       "      <th>Sales</th>\n",
       "      <th>Course_Domain_Development</th>\n",
       "      <th>Course_Domain_Finance &amp; Accounting</th>\n",
       "      <th>Course_Domain_Software Marketing</th>\n",
       "      <th>Course_Type_Degree</th>\n",
       "      <th>Course_Type_Program</th>\n",
       "    </tr>\n",
       "  </thead>\n",
       "  <tbody>\n",
       "    <tr>\n",
       "      <th>0</th>\n",
       "      <td>-1.726919</td>\n",
       "      <td>-0.783287</td>\n",
       "      <td>5.532306</td>\n",
       "      <td>1.022313</td>\n",
       "      <td>-0.565676</td>\n",
       "      <td>-0.732716</td>\n",
       "      <td>0.968276</td>\n",
       "      <td>-0.42136</td>\n",
       "      <td>-0.693097</td>\n",
       "      <td>-0.058793</td>\n",
       "      <td>-0.967459</td>\n",
       "    </tr>\n",
       "    <tr>\n",
       "      <th>1</th>\n",
       "      <td>-1.726919</td>\n",
       "      <td>-0.783287</td>\n",
       "      <td>-0.180756</td>\n",
       "      <td>1.022313</td>\n",
       "      <td>-0.223250</td>\n",
       "      <td>-0.769511</td>\n",
       "      <td>0.968276</td>\n",
       "      <td>-0.42136</td>\n",
       "      <td>-0.693097</td>\n",
       "      <td>-0.058793</td>\n",
       "      <td>-0.967459</td>\n",
       "    </tr>\n",
       "    <tr>\n",
       "      <th>2</th>\n",
       "      <td>-1.726919</td>\n",
       "      <td>-0.783287</td>\n",
       "      <td>-0.180756</td>\n",
       "      <td>1.022313</td>\n",
       "      <td>-0.481428</td>\n",
       "      <td>-0.843101</td>\n",
       "      <td>0.968276</td>\n",
       "      <td>-0.42136</td>\n",
       "      <td>-0.693097</td>\n",
       "      <td>-0.058793</td>\n",
       "      <td>-0.967459</td>\n",
       "    </tr>\n",
       "    <tr>\n",
       "      <th>3</th>\n",
       "      <td>-1.726919</td>\n",
       "      <td>-0.783287</td>\n",
       "      <td>-0.180756</td>\n",
       "      <td>1.022313</td>\n",
       "      <td>-0.429792</td>\n",
       "      <td>-0.751113</td>\n",
       "      <td>0.968276</td>\n",
       "      <td>-0.42136</td>\n",
       "      <td>-0.693097</td>\n",
       "      <td>-0.058793</td>\n",
       "      <td>-0.967459</td>\n",
       "    </tr>\n",
       "    <tr>\n",
       "      <th>4</th>\n",
       "      <td>-1.726919</td>\n",
       "      <td>-0.783287</td>\n",
       "      <td>-0.180756</td>\n",
       "      <td>1.022313</td>\n",
       "      <td>-1.109208</td>\n",
       "      <td>-1.468616</td>\n",
       "      <td>0.968276</td>\n",
       "      <td>-0.42136</td>\n",
       "      <td>-0.693097</td>\n",
       "      <td>-0.058793</td>\n",
       "      <td>-0.967459</td>\n",
       "    </tr>\n",
       "  </tbody>\n",
       "</table>\n",
       "</div>"
      ],
      "text/plain": [
       "   Course_ID  Short_Promotion  Public_Holiday  Long_Promotion  User_Traffic  \\\n",
       "0  -1.726919        -0.783287        5.532306        1.022313     -0.565676   \n",
       "1  -1.726919        -0.783287       -0.180756        1.022313     -0.223250   \n",
       "2  -1.726919        -0.783287       -0.180756        1.022313     -0.481428   \n",
       "3  -1.726919        -0.783287       -0.180756        1.022313     -0.429792   \n",
       "4  -1.726919        -0.783287       -0.180756        1.022313     -1.109208   \n",
       "\n",
       "      Sales  Course_Domain_Development  Course_Domain_Finance & Accounting  \\\n",
       "0 -0.732716                   0.968276                            -0.42136   \n",
       "1 -0.769511                   0.968276                            -0.42136   \n",
       "2 -0.843101                   0.968276                            -0.42136   \n",
       "3 -0.751113                   0.968276                            -0.42136   \n",
       "4 -1.468616                   0.968276                            -0.42136   \n",
       "\n",
       "   Course_Domain_Software Marketing  Course_Type_Degree  Course_Type_Program  \n",
       "0                         -0.693097           -0.058793            -0.967459  \n",
       "1                         -0.693097           -0.058793            -0.967459  \n",
       "2                         -0.693097           -0.058793            -0.967459  \n",
       "3                         -0.693097           -0.058793            -0.967459  \n",
       "4                         -0.693097           -0.058793            -0.967459  "
      ]
     },
     "execution_count": 21,
     "metadata": {},
     "output_type": "execute_result"
    }
   ],
   "source": [
    "train3.columns = ['Course_ID', 'Short_Promotion', 'Public_Holiday', 'Long_Promotion',\n",
    "       'User_Traffic', 'Sales', 'Course_Domain_Development',\n",
    "       'Course_Domain_Finance & Accounting',\n",
    "       'Course_Domain_Software Marketing', 'Course_Type_Degree',\n",
    "       'Course_Type_Program']\n",
    "train3.head()"
   ]
  },
  {
   "cell_type": "markdown",
   "metadata": {},
   "source": [
    "#### Preparing X and Y"
   ]
  },
  {
   "cell_type": "code",
   "execution_count": 22,
   "metadata": {},
   "outputs": [],
   "source": [
    "X = train3.loc[:,train.columns != 'Sales']"
   ]
  },
  {
   "cell_type": "code",
   "execution_count": 23,
   "metadata": {},
   "outputs": [],
   "source": [
    "Y=train3[['Sales']]"
   ]
  },
  {
   "cell_type": "code",
   "execution_count": 24,
   "metadata": {},
   "outputs": [
    {
     "data": {
      "text/html": [
       "<div>\n",
       "<style scoped>\n",
       "    .dataframe tbody tr th:only-of-type {\n",
       "        vertical-align: middle;\n",
       "    }\n",
       "\n",
       "    .dataframe tbody tr th {\n",
       "        vertical-align: top;\n",
       "    }\n",
       "\n",
       "    .dataframe thead th {\n",
       "        text-align: right;\n",
       "    }\n",
       "</style>\n",
       "<table border=\"1\" class=\"dataframe\">\n",
       "  <thead>\n",
       "    <tr style=\"text-align: right;\">\n",
       "      <th></th>\n",
       "      <th>Course_ID</th>\n",
       "      <th>Short_Promotion</th>\n",
       "      <th>Public_Holiday</th>\n",
       "      <th>Long_Promotion</th>\n",
       "      <th>User_Traffic</th>\n",
       "      <th>Sales</th>\n",
       "      <th>Course_Domain_Development</th>\n",
       "    </tr>\n",
       "  </thead>\n",
       "  <tbody>\n",
       "    <tr>\n",
       "      <th>0</th>\n",
       "      <td>-1.726919</td>\n",
       "      <td>-0.783287</td>\n",
       "      <td>5.532306</td>\n",
       "      <td>1.022313</td>\n",
       "      <td>-0.565676</td>\n",
       "      <td>-0.732716</td>\n",
       "      <td>0.968276</td>\n",
       "    </tr>\n",
       "    <tr>\n",
       "      <th>1</th>\n",
       "      <td>-1.726919</td>\n",
       "      <td>-0.783287</td>\n",
       "      <td>-0.180756</td>\n",
       "      <td>1.022313</td>\n",
       "      <td>-0.223250</td>\n",
       "      <td>-0.769511</td>\n",
       "      <td>0.968276</td>\n",
       "    </tr>\n",
       "    <tr>\n",
       "      <th>2</th>\n",
       "      <td>-1.726919</td>\n",
       "      <td>-0.783287</td>\n",
       "      <td>-0.180756</td>\n",
       "      <td>1.022313</td>\n",
       "      <td>-0.481428</td>\n",
       "      <td>-0.843101</td>\n",
       "      <td>0.968276</td>\n",
       "    </tr>\n",
       "    <tr>\n",
       "      <th>3</th>\n",
       "      <td>-1.726919</td>\n",
       "      <td>-0.783287</td>\n",
       "      <td>-0.180756</td>\n",
       "      <td>1.022313</td>\n",
       "      <td>-0.429792</td>\n",
       "      <td>-0.751113</td>\n",
       "      <td>0.968276</td>\n",
       "    </tr>\n",
       "    <tr>\n",
       "      <th>4</th>\n",
       "      <td>-1.726919</td>\n",
       "      <td>-0.783287</td>\n",
       "      <td>-0.180756</td>\n",
       "      <td>1.022313</td>\n",
       "      <td>-1.109208</td>\n",
       "      <td>-1.468616</td>\n",
       "      <td>0.968276</td>\n",
       "    </tr>\n",
       "  </tbody>\n",
       "</table>\n",
       "</div>"
      ],
      "text/plain": [
       "   Course_ID  Short_Promotion  Public_Holiday  Long_Promotion  User_Traffic  \\\n",
       "0  -1.726919        -0.783287        5.532306        1.022313     -0.565676   \n",
       "1  -1.726919        -0.783287       -0.180756        1.022313     -0.223250   \n",
       "2  -1.726919        -0.783287       -0.180756        1.022313     -0.481428   \n",
       "3  -1.726919        -0.783287       -0.180756        1.022313     -0.429792   \n",
       "4  -1.726919        -0.783287       -0.180756        1.022313     -1.109208   \n",
       "\n",
       "      Sales  Course_Domain_Development  \n",
       "0 -0.732716                   0.968276  \n",
       "1 -0.769511                   0.968276  \n",
       "2 -0.843101                   0.968276  \n",
       "3 -0.751113                   0.968276  \n",
       "4 -1.468616                   0.968276  "
      ]
     },
     "execution_count": 24,
     "metadata": {},
     "output_type": "execute_result"
    }
   ],
   "source": [
    "X.head()"
   ]
  },
  {
   "cell_type": "code",
   "execution_count": 25,
   "metadata": {},
   "outputs": [
    {
     "data": {
      "text/html": [
       "<div>\n",
       "<style scoped>\n",
       "    .dataframe tbody tr th:only-of-type {\n",
       "        vertical-align: middle;\n",
       "    }\n",
       "\n",
       "    .dataframe tbody tr th {\n",
       "        vertical-align: top;\n",
       "    }\n",
       "\n",
       "    .dataframe thead th {\n",
       "        text-align: right;\n",
       "    }\n",
       "</style>\n",
       "<table border=\"1\" class=\"dataframe\">\n",
       "  <thead>\n",
       "    <tr style=\"text-align: right;\">\n",
       "      <th></th>\n",
       "      <th>Sales</th>\n",
       "    </tr>\n",
       "  </thead>\n",
       "  <tbody>\n",
       "    <tr>\n",
       "      <th>0</th>\n",
       "      <td>-0.732716</td>\n",
       "    </tr>\n",
       "    <tr>\n",
       "      <th>1</th>\n",
       "      <td>-0.769511</td>\n",
       "    </tr>\n",
       "    <tr>\n",
       "      <th>2</th>\n",
       "      <td>-0.843101</td>\n",
       "    </tr>\n",
       "    <tr>\n",
       "      <th>3</th>\n",
       "      <td>-0.751113</td>\n",
       "    </tr>\n",
       "    <tr>\n",
       "      <th>4</th>\n",
       "      <td>-1.468616</td>\n",
       "    </tr>\n",
       "  </tbody>\n",
       "</table>\n",
       "</div>"
      ],
      "text/plain": [
       "      Sales\n",
       "0 -0.732716\n",
       "1 -0.769511\n",
       "2 -0.843101\n",
       "3 -0.751113\n",
       "4 -1.468616"
      ]
     },
     "execution_count": 25,
     "metadata": {},
     "output_type": "execute_result"
    }
   ],
   "source": [
    "Y.head()"
   ]
  },
  {
   "cell_type": "markdown",
   "metadata": {},
   "source": [
    "#### Splitting X and y into training and test datasets"
   ]
  },
  {
   "cell_type": "code",
   "execution_count": 26,
   "metadata": {},
   "outputs": [],
   "source": [
    "from sklearn.model_selection import train_test_split\n",
    "\n",
    "def split(X,Y):\n",
    "    return train_test_split(X, Y, test_size=0.20, random_state=1)"
   ]
  },
  {
   "cell_type": "code",
   "execution_count": 27,
   "metadata": {},
   "outputs": [],
   "source": [
    "X_train, X_test, Y_train, Y_test = split(X,Y)"
   ]
  },
  {
   "cell_type": "code",
   "execution_count": 28,
   "metadata": {},
   "outputs": [
    {
     "data": {
      "text/html": [
       "<div>\n",
       "<style scoped>\n",
       "    .dataframe tbody tr th:only-of-type {\n",
       "        vertical-align: middle;\n",
       "    }\n",
       "\n",
       "    .dataframe tbody tr th {\n",
       "        vertical-align: top;\n",
       "    }\n",
       "\n",
       "    .dataframe thead th {\n",
       "        text-align: right;\n",
       "    }\n",
       "</style>\n",
       "<table border=\"1\" class=\"dataframe\">\n",
       "  <thead>\n",
       "    <tr style=\"text-align: right;\">\n",
       "      <th></th>\n",
       "      <th>Course_ID</th>\n",
       "      <th>Short_Promotion</th>\n",
       "      <th>Public_Holiday</th>\n",
       "      <th>Long_Promotion</th>\n",
       "      <th>User_Traffic</th>\n",
       "      <th>Sales</th>\n",
       "      <th>Course_Domain_Development</th>\n",
       "    </tr>\n",
       "  </thead>\n",
       "  <tbody>\n",
       "    <tr>\n",
       "      <th>462829</th>\n",
       "      <td>1.399422</td>\n",
       "      <td>1.276672</td>\n",
       "      <td>-0.180756</td>\n",
       "      <td>-0.978174</td>\n",
       "      <td>0.358330</td>\n",
       "      <td>0.683892</td>\n",
       "      <td>-1.032763</td>\n",
       "    </tr>\n",
       "    <tr>\n",
       "      <th>31290</th>\n",
       "      <td>-1.519265</td>\n",
       "      <td>-0.783287</td>\n",
       "      <td>-0.180756</td>\n",
       "      <td>1.022313</td>\n",
       "      <td>0.249624</td>\n",
       "      <td>0.978252</td>\n",
       "      <td>-1.032763</td>\n",
       "    </tr>\n",
       "    <tr>\n",
       "      <th>16637</th>\n",
       "      <td>-1.617324</td>\n",
       "      <td>-0.783287</td>\n",
       "      <td>-0.180756</td>\n",
       "      <td>1.022313</td>\n",
       "      <td>-0.383592</td>\n",
       "      <td>-0.180791</td>\n",
       "      <td>-1.032763</td>\n",
       "    </tr>\n",
       "    <tr>\n",
       "      <th>104813</th>\n",
       "      <td>-1.017436</td>\n",
       "      <td>1.276672</td>\n",
       "      <td>-0.180756</td>\n",
       "      <td>-0.978174</td>\n",
       "      <td>-0.715147</td>\n",
       "      <td>-1.100666</td>\n",
       "      <td>-1.032763</td>\n",
       "    </tr>\n",
       "    <tr>\n",
       "      <th>428308</th>\n",
       "      <td>1.168696</td>\n",
       "      <td>-0.783287</td>\n",
       "      <td>-0.180756</td>\n",
       "      <td>-0.978174</td>\n",
       "      <td>-0.329239</td>\n",
       "      <td>-0.787908</td>\n",
       "      <td>0.968276</td>\n",
       "    </tr>\n",
       "  </tbody>\n",
       "</table>\n",
       "</div>"
      ],
      "text/plain": [
       "        Course_ID  Short_Promotion  Public_Holiday  Long_Promotion  \\\n",
       "462829   1.399422         1.276672       -0.180756       -0.978174   \n",
       "31290   -1.519265        -0.783287       -0.180756        1.022313   \n",
       "16637   -1.617324        -0.783287       -0.180756        1.022313   \n",
       "104813  -1.017436         1.276672       -0.180756       -0.978174   \n",
       "428308   1.168696        -0.783287       -0.180756       -0.978174   \n",
       "\n",
       "        User_Traffic     Sales  Course_Domain_Development  \n",
       "462829      0.358330  0.683892                  -1.032763  \n",
       "31290       0.249624  0.978252                  -1.032763  \n",
       "16637      -0.383592 -0.180791                  -1.032763  \n",
       "104813     -0.715147 -1.100666                  -1.032763  \n",
       "428308     -0.329239 -0.787908                   0.968276  "
      ]
     },
     "execution_count": 28,
     "metadata": {},
     "output_type": "execute_result"
    }
   ],
   "source": [
    "X_train.head()"
   ]
  },
  {
   "cell_type": "markdown",
   "metadata": {},
   "source": [
    "#### 6.1 Linear regression model"
   ]
  },
  {
   "cell_type": "code",
   "execution_count": 29,
   "metadata": {},
   "outputs": [],
   "source": [
    "linreg = LinearRegression()"
   ]
  },
  {
   "cell_type": "code",
   "execution_count": 30,
   "metadata": {},
   "outputs": [
    {
     "data": {
      "text/plain": [
       "LinearRegression(copy_X=True, fit_intercept=True, n_jobs=None,\n",
       "         normalize=False)"
      ]
     },
     "execution_count": 30,
     "metadata": {},
     "output_type": "execute_result"
    }
   ],
   "source": [
    "linreg.fit(X_train, Y_train)"
   ]
  },
  {
   "cell_type": "markdown",
   "metadata": {},
   "source": [
    "#### Using the Model for Prediction"
   ]
  },
  {
   "cell_type": "code",
   "execution_count": 31,
   "metadata": {},
   "outputs": [],
   "source": [
    "Y_pred_train = linreg.predict(X_train)\n",
    "Y_pred_test = linreg.predict(X_test)    "
   ]
  },
  {
   "cell_type": "markdown",
   "metadata": {},
   "source": [
    "#### Model evaluation"
   ]
  },
  {
   "cell_type": "code",
   "execution_count": 32,
   "metadata": {},
   "outputs": [],
   "source": [
    "MAE_train = metrics.mean_absolute_error(Y_train, Y_pred_train)\n",
    "MAE_test = metrics.mean_absolute_error(Y_test, Y_pred_test)"
   ]
  },
  {
   "cell_type": "code",
   "execution_count": 33,
   "metadata": {},
   "outputs": [],
   "source": [
    "MSE_train = metrics.mean_squared_error(Y_train, Y_pred_train)\n",
    "MSE_test = metrics.mean_squared_error(Y_test, Y_pred_test)"
   ]
  },
  {
   "cell_type": "code",
   "execution_count": 34,
   "metadata": {},
   "outputs": [],
   "source": [
    "RMSE_train = np.sqrt( metrics.mean_squared_error(Y_train, Y_pred_train))\n",
    "RMSE_test = np.sqrt(metrics.mean_squared_error(Y_test, Y_pred_test))"
   ]
  },
  {
   "cell_type": "code",
   "execution_count": 35,
   "metadata": {},
   "outputs": [
    {
     "data": {
      "text/plain": [
       "5.8639762527130435e-15"
      ]
     },
     "execution_count": 35,
     "metadata": {},
     "output_type": "execute_result"
    }
   ],
   "source": [
    "RMSE_train"
   ]
  },
  {
   "cell_type": "code",
   "execution_count": 36,
   "metadata": {},
   "outputs": [
    {
     "data": {
      "text/plain": [
       "5.8462448582986424e-15"
      ]
     },
     "execution_count": 36,
     "metadata": {},
     "output_type": "execute_result"
    }
   ],
   "source": [
    "RMSE_test"
   ]
  },
  {
   "cell_type": "markdown",
   "metadata": {},
   "source": [
    "#### 6.2. Random Forest"
   ]
  },
  {
   "cell_type": "code",
   "execution_count": 48,
   "metadata": {},
   "outputs": [],
   "source": [
    "regressor_RandomForest = RandomForestRegressor(n_estimators = 10, random_state = 0)"
   ]
  },
  {
   "cell_type": "code",
   "execution_count": 49,
   "metadata": {},
   "outputs": [
    {
     "name": "stderr",
     "output_type": "stream",
     "text": [
      "C:\\ProgramData\\Anaconda3\\lib\\site-packages\\ipykernel_launcher.py:1: DataConversionWarning: A column-vector y was passed when a 1d array was expected. Please change the shape of y to (n_samples,), for example using ravel().\n",
      "  \"\"\"Entry point for launching an IPython kernel.\n"
     ]
    },
    {
     "data": {
      "text/plain": [
       "RandomForestRegressor(bootstrap=True, criterion='mse', max_depth=None,\n",
       "           max_features='auto', max_leaf_nodes=None,\n",
       "           min_impurity_decrease=0.0, min_impurity_split=None,\n",
       "           min_samples_leaf=1, min_samples_split=2,\n",
       "           min_weight_fraction_leaf=0.0, n_estimators=10, n_jobs=None,\n",
       "           oob_score=False, random_state=0, verbose=0, warm_start=False)"
      ]
     },
     "execution_count": 49,
     "metadata": {},
     "output_type": "execute_result"
    }
   ],
   "source": [
    "regressor_RandomForest.fit(X_train, Y_train)"
   ]
  },
  {
   "cell_type": "markdown",
   "metadata": {},
   "source": [
    "#### Using the Model for Prediction"
   ]
  },
  {
   "cell_type": "code",
   "execution_count": 50,
   "metadata": {},
   "outputs": [],
   "source": [
    "Y_pred_train_RandomForest = regressor_RandomForest.predict(X_train)\n",
    "Y_pred_test_RandomForest = regressor_RandomForest.predict(X_test)  "
   ]
  },
  {
   "cell_type": "markdown",
   "metadata": {},
   "source": [
    "#### Model evaluation"
   ]
  },
  {
   "cell_type": "code",
   "execution_count": 51,
   "metadata": {},
   "outputs": [],
   "source": [
    "MAE_train_RandomForest = metrics.mean_absolute_error(Y_train, Y_pred_train_RandomForest)\n",
    "MAE_test_RandomForest = metrics.mean_absolute_error(Y_test, Y_pred_test_RandomForest)"
   ]
  },
  {
   "cell_type": "code",
   "execution_count": 52,
   "metadata": {},
   "outputs": [],
   "source": [
    "MSE_train_RandomForest = metrics.mean_squared_error(Y_train, Y_pred_train_RandomForest)\n",
    "MSE_test_RandomForest = metrics.mean_squared_error(Y_test, Y_pred_test_RandomForest)"
   ]
  },
  {
   "cell_type": "code",
   "execution_count": 54,
   "metadata": {},
   "outputs": [],
   "source": [
    "RMSE_train_RandomForest = np.sqrt( metrics.mean_squared_error(Y_train, Y_pred_train_RandomForest))\n",
    "RMSE_test_RandomForest = np.sqrt(metrics.mean_squared_error(Y_test, Y_pred_test_RandomForest))"
   ]
  },
  {
   "cell_type": "code",
   "execution_count": 55,
   "metadata": {},
   "outputs": [
    {
     "data": {
      "text/plain": [
       "0.0006078251172610812"
      ]
     },
     "execution_count": 55,
     "metadata": {},
     "output_type": "execute_result"
    }
   ],
   "source": [
    "RMSE_train_RandomForest"
   ]
  },
  {
   "cell_type": "code",
   "execution_count": 56,
   "metadata": {},
   "outputs": [
    {
     "data": {
      "text/plain": [
       "0.003677097083891608"
      ]
     },
     "execution_count": 56,
     "metadata": {},
     "output_type": "execute_result"
    }
   ],
   "source": [
    "RMSE_test_RandomForest"
   ]
  },
  {
   "cell_type": "markdown",
   "metadata": {},
   "source": [
    "#### 6.3 K-Nearest Neighbour"
   ]
  },
  {
   "cell_type": "code",
   "execution_count": 38,
   "metadata": {},
   "outputs": [],
   "source": [
    "regressor = KNeighborsRegressor(n_neighbors=3)"
   ]
  },
  {
   "cell_type": "code",
   "execution_count": 39,
   "metadata": {},
   "outputs": [
    {
     "data": {
      "text/plain": [
       "KNeighborsRegressor(algorithm='auto', leaf_size=30, metric='minkowski',\n",
       "          metric_params=None, n_jobs=None, n_neighbors=3, p=2,\n",
       "          weights='uniform')"
      ]
     },
     "execution_count": 39,
     "metadata": {},
     "output_type": "execute_result"
    }
   ],
   "source": [
    "regressor.fit(X_train, Y_train)"
   ]
  },
  {
   "cell_type": "markdown",
   "metadata": {},
   "source": [
    "#### Using the Model for Prediction"
   ]
  },
  {
   "cell_type": "code",
   "execution_count": 41,
   "metadata": {},
   "outputs": [],
   "source": [
    "Y_pred_train_knn = regressor.predict(X_train)\n",
    "Y_pred_test_knn = regressor.predict(X_test)  "
   ]
  },
  {
   "cell_type": "markdown",
   "metadata": {},
   "source": [
    "#### Model evaluation"
   ]
  },
  {
   "cell_type": "code",
   "execution_count": 42,
   "metadata": {},
   "outputs": [],
   "source": [
    "MAE_train_knn = metrics.mean_absolute_error(Y_train, Y_pred_train_knn)\n",
    "MAE_test_knn = metrics.mean_absolute_error(Y_test, Y_pred_test_knn)"
   ]
  },
  {
   "cell_type": "code",
   "execution_count": 43,
   "metadata": {},
   "outputs": [],
   "source": [
    "MSE_train_knn = metrics.mean_squared_error(Y_train, Y_pred_train_knn)\n",
    "MSE_test_knn = metrics.mean_squared_error(Y_test, Y_pred_test_knn)"
   ]
  },
  {
   "cell_type": "code",
   "execution_count": 44,
   "metadata": {},
   "outputs": [],
   "source": [
    "RMSE_train_knn = np.sqrt( metrics.mean_squared_error(Y_train, Y_pred_train_knn))\n",
    "RMSE_test_knn = np.sqrt(metrics.mean_squared_error(Y_test, Y_pred_test_knn))"
   ]
  },
  {
   "cell_type": "code",
   "execution_count": 45,
   "metadata": {},
   "outputs": [
    {
     "data": {
      "text/plain": [
       "0.017087147848942472"
      ]
     },
     "execution_count": 45,
     "metadata": {},
     "output_type": "execute_result"
    }
   ],
   "source": [
    "RMSE_train_knn"
   ]
  },
  {
   "cell_type": "code",
   "execution_count": 46,
   "metadata": {},
   "outputs": [
    {
     "data": {
      "text/plain": [
       "0.026566911436078214"
      ]
     },
     "execution_count": 46,
     "metadata": {},
     "output_type": "execute_result"
    }
   ],
   "source": [
    "RMSE_test_knn"
   ]
  },
  {
   "cell_type": "markdown",
   "metadata": {},
   "source": [
    "### 7. Analysing the algorithms"
   ]
  },
  {
   "cell_type": "code",
   "execution_count": 73,
   "metadata": {},
   "outputs": [],
   "source": [
    "data = {'RMSE_train': pd.Series([RMSE_train,RMSE_train_RandomForest,RMSE_train_knn],\n",
    "        index = ['RMSE_LinearRegression','RMSE_RandomForest','RMSE_knn']),\n",
    "       'RMSE_test': pd.Series([RMSE_test,RMSE_test_RandomForest,RMSE_test_knn],\n",
    "        index = ['RMSE_LinearRegression','RMSE_RandomForest','RMSE_knn'])}"
   ]
  },
  {
   "cell_type": "code",
   "execution_count": 76,
   "metadata": {},
   "outputs": [],
   "source": [
    "Analysis = pd.DataFrame(data)"
   ]
  },
  {
   "cell_type": "code",
   "execution_count": 74,
   "metadata": {},
   "outputs": [
    {
     "name": "stdout",
     "output_type": "stream",
     "text": [
      "{'RMSE_train': RMSE_LinearRegression    5.863976e-15\n",
      "RMSE_RandomForest        6.078251e-04\n",
      "RMSE_knn                 1.708715e-02\n",
      "dtype: float64, 'RMSE_test': RMSE_LinearRegression    5.846245e-15\n",
      "RMSE_RandomForest        3.677097e-03\n",
      "RMSE_knn                 2.656691e-02\n",
      "dtype: float64}\n"
     ]
    }
   ],
   "source": [
    "print(data)"
   ]
  },
  {
   "cell_type": "code",
   "execution_count": 77,
   "metadata": {},
   "outputs": [
    {
     "data": {
      "text/html": [
       "<div>\n",
       "<style scoped>\n",
       "    .dataframe tbody tr th:only-of-type {\n",
       "        vertical-align: middle;\n",
       "    }\n",
       "\n",
       "    .dataframe tbody tr th {\n",
       "        vertical-align: top;\n",
       "    }\n",
       "\n",
       "    .dataframe thead th {\n",
       "        text-align: right;\n",
       "    }\n",
       "</style>\n",
       "<table border=\"1\" class=\"dataframe\">\n",
       "  <thead>\n",
       "    <tr style=\"text-align: right;\">\n",
       "      <th></th>\n",
       "      <th>RMSE_train</th>\n",
       "      <th>RMSE_test</th>\n",
       "    </tr>\n",
       "  </thead>\n",
       "  <tbody>\n",
       "    <tr>\n",
       "      <th>RMSE_LinearRegression</th>\n",
       "      <td>5.863976e-15</td>\n",
       "      <td>5.846245e-15</td>\n",
       "    </tr>\n",
       "    <tr>\n",
       "      <th>RMSE_RandomForest</th>\n",
       "      <td>6.078251e-04</td>\n",
       "      <td>3.677097e-03</td>\n",
       "    </tr>\n",
       "    <tr>\n",
       "      <th>RMSE_knn</th>\n",
       "      <td>1.708715e-02</td>\n",
       "      <td>2.656691e-02</td>\n",
       "    </tr>\n",
       "  </tbody>\n",
       "</table>\n",
       "</div>"
      ],
      "text/plain": [
       "                         RMSE_train     RMSE_test\n",
       "RMSE_LinearRegression  5.863976e-15  5.846245e-15\n",
       "RMSE_RandomForest      6.078251e-04  3.677097e-03\n",
       "RMSE_knn               1.708715e-02  2.656691e-02"
      ]
     },
     "execution_count": 77,
     "metadata": {},
     "output_type": "execute_result"
    }
   ],
   "source": [
    "Analysis"
   ]
  }
 ],
 "metadata": {
  "kernelspec": {
   "display_name": "Python 3",
   "language": "python",
   "name": "python3"
  },
  "language_info": {
   "codemirror_mode": {
    "name": "ipython",
    "version": 3
   },
   "file_extension": ".py",
   "mimetype": "text/x-python",
   "name": "python",
   "nbconvert_exporter": "python",
   "pygments_lexer": "ipython3",
   "version": "3.7.3"
  }
 },
 "nbformat": 4,
 "nbformat_minor": 2
}
